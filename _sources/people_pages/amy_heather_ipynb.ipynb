{
 "cells": [
  {
   "cell_type": "markdown",
   "metadata": {},
   "source": [
    "# Amy Heather"
   ]
  },
  {
   "cell_type": "code",
   "execution_count": 2,
   "metadata": {
    "tags": []
   },
   "outputs": [
    {
     "data": {
      "text/markdown": [
       "[![GitHub](https://img.shields.io/badge/GitHub-amyheather-DCD0FF)](https://github.com/amyheather)"
      ],
      "text/plain": [
       "<IPython.core.display.Markdown object>"
      ]
     },
     "execution_count": 2,
     "metadata": {},
     "output_type": "execute_result"
    }
   ],
   "source": [
    "%run ../scripts/badges\n",
    "orcid(\"0000-0002-6596-3479\")\n",
    "linkedin(\"Amy Heather\", \"https://www.linkedin.com/in/amyheather/\")\n",
    "github(\"amyheather\")"
   ]
  },
  {
   "cell_type": "markdown",
   "metadata": {},
   "source": [
    "> Postdoctoral Research Associate at the University of Exeter\n",
    "\n",
    "## Current projects\n",
    "\n",
    "`````{grid} 2\n",
    "````{grid-item-card} October 2022 - April 2024: Kailo\n",
    "\n",
    "[![Kailo #BeeWell logo](../images/beewell_kailo_colour_logo.png)](../project_pages/kailo.md)\n",
    "````\n",
    "`````\n",
    "\n",
    "\n",
    "## Previous projects\n",
    "\n",
    "## Publications\n",
    "\n",
    "```{include} ../publications/amy_heather_publications.txt\n",
    "```"
   ]
  }
 ],
 "metadata": {
  "kernelspec": {
   "display_name": "penchord_web",
   "language": "python",
   "name": "python3"
  },
  "language_info": {
   "codemirror_mode": {
    "name": "ipython",
    "version": 3
   },
   "file_extension": ".py",
   "mimetype": "text/x-python",
   "name": "python",
   "nbconvert_exporter": "python",
   "pygments_lexer": "ipython3",
   "version": "3.10.12"
  }
 },
 "nbformat": 4,
 "nbformat_minor": 2
}
